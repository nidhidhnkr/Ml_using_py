{
  "nbformat": 4,
  "nbformat_minor": 0,
  "metadata": {
    "colab": {
      "provenance": [],
      "authorship_tag": "ABX9TyMSI8HfwYo3n+/Kb74ojvfc",
      "include_colab_link": true
    },
    "kernelspec": {
      "name": "python3",
      "display_name": "Python 3"
    },
    "language_info": {
      "name": "python"
    }
  },
  "cells": [
    {
      "cell_type": "markdown",
      "metadata": {
        "id": "view-in-github",
        "colab_type": "text"
      },
      "source": [
        "<a href=\"https://colab.research.google.com/github/nidhidhnkr/Ml_using_py/blob/main/week1.ipynb\" target=\"_parent\"><img src=\"https://colab.research.google.com/assets/colab-badge.svg\" alt=\"Open In Colab\"/></a>"
      ]
    },
    {
      "cell_type": "markdown",
      "source": [
        "Write a program to swap two numbers."
      ],
      "metadata": {
        "id": "IdXDUi3UVxff"
      }
    },
    {
      "cell_type": "code",
      "execution_count": null,
      "metadata": {
        "colab": {
          "base_uri": "https://localhost:8080/"
        },
        "id": "_pVsLqOCVufy",
        "outputId": "68d4a464-9c74-42ce-b66a-8b3ea8e7d5f3"
      },
      "outputs": [
        {
          "output_type": "stream",
          "name": "stdout",
          "text": [
            "7 5\n"
          ]
        }
      ],
      "source": [
        "a=5\n",
        "b=7\n",
        "#c=a a=b b=c\n",
        "a,b =b,a\n",
        "print(a,b)"
      ]
    },
    {
      "cell_type": "markdown",
      "source": [
        "Take input from the user and print it in a formatted way."
      ],
      "metadata": {
        "id": "A_jks18JWYv9"
      }
    },
    {
      "cell_type": "code",
      "source": [
        "name = input(\"Enter your name: \")\n",
        "age = input(\"Enter your age: \")\n",
        "city = input(\"Enter your city: \")\n",
        "\n",
        "print(f\"Hello, {name}! You are {age} years old and live in {city}.\")"
      ],
      "metadata": {
        "colab": {
          "base_uri": "https://localhost:8080/"
        },
        "id": "W1jl_TS6WfBJ",
        "outputId": "922ee80d-4166-4a01-e0b7-28c2d1e94d7d"
      },
      "execution_count": null,
      "outputs": [
        {
          "output_type": "stream",
          "name": "stdout",
          "text": [
            "Enter your name: nidhi\n",
            "Enter your age: 19\n",
            "Enter your city: bahadurgarh\n",
            "Hello, nidhi! You are 19 years old and live in bahadurgarh.\n"
          ]
        }
      ]
    },
    {
      "cell_type": "markdown",
      "source": [
        "check data type of user input"
      ],
      "metadata": {
        "id": "8nClxMeeX2EG"
      }
    },
    {
      "cell_type": "code",
      "source": [
        "a= int(input(\"enter= \"))\n",
        "print(type(a))"
      ],
      "metadata": {
        "colab": {
          "base_uri": "https://localhost:8080/"
        },
        "id": "RvXJ1X_IX61D",
        "outputId": "bf62a2e5-b4fc-49e0-d525-5fd6a40a2ca7"
      },
      "execution_count": null,
      "outputs": [
        {
          "output_type": "stream",
          "name": "stdout",
          "text": [
            "enter= 78\n",
            "<class 'int'>\n"
          ]
        }
      ]
    },
    {
      "cell_type": "markdown",
      "source": [
        "Write a program to check if a number is even or odd."
      ],
      "metadata": {
        "id": "omEZTYedsPdj"
      }
    },
    {
      "cell_type": "code",
      "source": [
        "a=int(input())\n",
        "if a%2==0:\n",
        "  print(\"even\")\n",
        "else:\n",
        "  print(\"odd\")"
      ],
      "metadata": {
        "colab": {
          "base_uri": "https://localhost:8080/"
        },
        "id": "NTQDs_YetHjT",
        "outputId": "c159911b-da8c-42ad-d91b-b7bdd1f9be3a"
      },
      "execution_count": null,
      "outputs": [
        {
          "output_type": "stream",
          "name": "stdout",
          "text": [
            "45\n",
            "odd\n"
          ]
        }
      ]
    },
    {
      "cell_type": "markdown",
      "source": [
        "wap to find largest of 3 numbers"
      ],
      "metadata": {
        "id": "mCXyN7f1t93M"
      }
    },
    {
      "cell_type": "code",
      "source": [
        "a=6\n",
        "b=5\n",
        "c=9\n",
        "if a>b and b>c:\n",
        "  print(\"a is largest\")\n",
        "elif b>a and b>c:\n",
        "  print(\"b is largest\")\n",
        "else:\n",
        "  print(\"c is largest\")"
      ],
      "metadata": {
        "colab": {
          "base_uri": "https://localhost:8080/"
        },
        "id": "QH2JS7eit0uF",
        "outputId": "3de0afce-2d52-4256-82bb-722250b35d4f"
      },
      "execution_count": null,
      "outputs": [
        {
          "output_type": "stream",
          "name": "stdout",
          "text": [
            "c is largest\n"
          ]
        }
      ]
    },
    {
      "cell_type": "markdown",
      "source": [
        "check prime"
      ],
      "metadata": {
        "id": "lKa62bMfu2lr"
      }
    },
    {
      "cell_type": "code",
      "source": [
        "a=int(input())\n",
        "if a<0:\n",
        "  print(\"negative numbers are neither prime nor composite\")\n",
        "elif a==0 or a==1:\n",
        "  print(\"niether prime nor composite\")\n",
        "else:\n",
        "  for i in range(2,a//2):\n",
        "    if a%i==0:\n",
        "      print(\"not prime\")\n",
        "      break\n",
        "    else:\n",
        "      print(\"composite\")\n",
        "      break"
      ],
      "metadata": {
        "colab": {
          "base_uri": "https://localhost:8080/"
        },
        "id": "9_dqpugNu-Sz",
        "outputId": "420b64da-b62c-491b-fa78-9f10eac7d783"
      },
      "execution_count": null,
      "outputs": [
        {
          "output_type": "stream",
          "name": "stdout",
          "text": [
            "45\n",
            "composite\n"
          ]
        }
      ]
    },
    {
      "cell_type": "markdown",
      "source": [
        "print first 100 prime numbers"
      ],
      "metadata": {
        "id": "ltD_jG0bw5vy"
      }
    },
    {
      "cell_type": "code",
      "source": [
        "def isprime(n):\n",
        "  while n>1:\n",
        "    for i in range(2,n//2):\n",
        "      if n%i==0:\n",
        "        return False\n",
        "    return True\n",
        "\n",
        "count=0\n",
        "num=2 #first 100 starts with 2\n",
        "\n",
        "while count<100:\n",
        "  if isprime(num):\n",
        "    print(num,end=\" \")\n",
        "    count+=1\n",
        "  num+=1"
      ],
      "metadata": {
        "colab": {
          "base_uri": "https://localhost:8080/"
        },
        "id": "mwicWNCQw88L",
        "outputId": "3edc4d00-c34a-4ea5-c6b8-9bc3fc3c85e2"
      },
      "execution_count": null,
      "outputs": [
        {
          "output_type": "stream",
          "name": "stdout",
          "text": [
            "2 3 4 5 7 11 13 17 19 23 29 31 37 41 43 47 53 59 61 67 71 73 79 83 89 97 101 103 107 109 113 127 131 137 139 149 151 157 163 167 173 179 181 191 193 197 199 211 223 227 229 233 239 241 251 257 263 269 271 277 281 283 293 307 311 313 317 331 337 347 349 353 359 367 373 379 383 389 397 401 409 419 421 431 433 439 443 449 457 461 463 467 479 487 491 499 503 509 521 523 "
          ]
        }
      ]
    },
    {
      "cell_type": "markdown",
      "source": [
        "print multiplication table for a number"
      ],
      "metadata": {
        "id": "a7A7erHU2xKJ"
      }
    },
    {
      "cell_type": "code",
      "source": [
        "n=int(input())\n",
        "for i in range(1,11):\n",
        "  print(n*i,end=\"\\n\")"
      ],
      "metadata": {
        "colab": {
          "base_uri": "https://localhost:8080/"
        },
        "id": "cytwYxpX22Vo",
        "outputId": "604c05e1-4f48-4087-f3ed-339930b754cb"
      },
      "execution_count": null,
      "outputs": [
        {
          "output_type": "stream",
          "name": "stdout",
          "text": [
            "17\n",
            "17\n",
            "34\n",
            "51\n",
            "68\n",
            "85\n",
            "102\n",
            "119\n",
            "136\n",
            "153\n",
            "170\n"
          ]
        }
      ]
    },
    {
      "cell_type": "markdown",
      "source": [
        "# print number pattern"
      ],
      "metadata": {
        "id": "Uaxpw5Dq3Yeh"
      }
    },
    {
      "cell_type": "markdown",
      "source": [
        "rectangle square"
      ],
      "metadata": {
        "id": "ozRJfqCH_5S8"
      }
    },
    {
      "cell_type": "code",
      "source": [
        "for i in range(4):\n",
        "  for j in range(4):\n",
        "    print('*',end='')\n",
        "  print()"
      ],
      "metadata": {
        "id": "wP8muqJ93eyo",
        "colab": {
          "base_uri": "https://localhost:8080/"
        },
        "outputId": "73da6b09-11f9-4759-fae6-5d34823a7412"
      },
      "execution_count": null,
      "outputs": [
        {
          "output_type": "stream",
          "name": "stdout",
          "text": [
            "****\n",
            "****\n",
            "****\n",
            "****\n"
          ]
        }
      ]
    },
    {
      "cell_type": "code",
      "source": [
        "n=int(input())\n",
        "r=1\n",
        "while (r<=n):\n",
        "  col=1\n",
        "  while col<=n:\n",
        "    print(n-col+1,end=\"\")\n",
        "    col+=1\n",
        "  r+=1\n",
        "  print()"
      ],
      "metadata": {
        "colab": {
          "base_uri": "https://localhost:8080/"
        },
        "id": "MzSj8hwTAiyk",
        "outputId": "2ca980a4-9539-4e34-b340-2e69929a566b"
      },
      "execution_count": null,
      "outputs": [
        {
          "output_type": "stream",
          "name": "stdout",
          "text": [
            "6\n",
            "654321\n",
            "654321\n",
            "654321\n",
            "654321\n",
            "654321\n",
            "654321\n"
          ]
        }
      ]
    },
    {
      "cell_type": "code",
      "source": [
        "n=int(input())\n",
        "r=1\n",
        "while (r<=n):\n",
        "  col=1\n",
        "  while col<=n:\n",
        "    print(r+col-1,end=\" \")\n",
        "    col+=1\n",
        "  r+=1\n",
        "  print()"
      ],
      "metadata": {
        "colab": {
          "base_uri": "https://localhost:8080/"
        },
        "id": "uXuSV-DpBvAs",
        "outputId": "83f8237f-aff8-4602-b1f9-b015fcc17bf2"
      },
      "execution_count": null,
      "outputs": [
        {
          "output_type": "stream",
          "name": "stdout",
          "text": [
            "5\n",
            "1 2 3 4 5 \n",
            "2 3 4 5 6 \n",
            "3 4 5 6 7 \n",
            "4 5 6 7 8 \n",
            "5 6 7 8 9 \n"
          ]
        }
      ]
    },
    {
      "cell_type": "markdown",
      "source": [
        "triangular"
      ],
      "metadata": {
        "id": "3Sl1UzhOCKlM"
      }
    },
    {
      "cell_type": "code",
      "source": [
        "n=int(input())\n",
        "r=1\n",
        "while r<=n:\n",
        "  col=1\n",
        "  while col<=r:\n",
        "    print(r,end=\" \")\n",
        "    col+=1\n",
        "  r+=1\n",
        "  print()"
      ],
      "metadata": {
        "colab": {
          "base_uri": "https://localhost:8080/"
        },
        "id": "sqw5kJIuCMEa",
        "outputId": "800579cb-ff8d-42f0-d6f4-cc1cfbf9bdd9"
      },
      "execution_count": null,
      "outputs": [
        {
          "output_type": "stream",
          "name": "stdout",
          "text": [
            "3\n",
            "1 \n",
            "2 2 \n",
            "3 3 3 \n"
          ]
        }
      ]
    },
    {
      "cell_type": "code",
      "source": [
        "n=int(input())\n",
        "r=1\n",
        "while r<=n:\n",
        "  col=1\n",
        "  while col<=r:\n",
        "    print(col,end=\" \")\n",
        "    col+=1\n",
        "  r+=1\n",
        "  print()"
      ],
      "metadata": {
        "colab": {
          "base_uri": "https://localhost:8080/"
        },
        "id": "5e1FLrTvDDXK",
        "outputId": "17b5839f-54cd-4ad5-89c0-9995d792ea1e"
      },
      "execution_count": null,
      "outputs": [
        {
          "output_type": "stream",
          "name": "stdout",
          "text": [
            "4\n",
            "1 \n",
            "1 2 \n",
            "1 2 3 \n",
            "1 2 3 4 \n"
          ]
        }
      ]
    },
    {
      "cell_type": "code",
      "source": [
        "n=int(input())\n",
        "r=1\n",
        "t=1\n",
        "while r<=n:\n",
        "  col=1\n",
        "\n",
        "  while col<=r:\n",
        "    print(t,end=\" \")\n",
        "    t+=1\n",
        "    col+=1\n",
        "  r+=1\n",
        "  print()"
      ],
      "metadata": {
        "colab": {
          "base_uri": "https://localhost:8080/"
        },
        "id": "o8eVTtmGDOmY",
        "outputId": "fe465913-ce61-4458-da15-70136a2a03d5"
      },
      "execution_count": null,
      "outputs": [
        {
          "output_type": "stream",
          "name": "stdout",
          "text": [
            "4\n",
            "1 \n",
            "2 3 \n",
            "4 5 6 \n",
            "7 8 9 10 \n"
          ]
        }
      ]
    },
    {
      "cell_type": "markdown",
      "source": [
        "characters"
      ],
      "metadata": {
        "id": "VWbo7MfpE0qZ"
      }
    },
    {
      "cell_type": "code",
      "source": [
        "n=int(input())\n",
        "r=1\n",
        "while r<=n:\n",
        "  col=1\n",
        "  while col<=n:\n",
        "    print(chr(64+col),end=\" \")\n",
        "    col+=1\n",
        "  r+=1\n",
        "  print()"
      ],
      "metadata": {
        "colab": {
          "base_uri": "https://localhost:8080/"
        },
        "id": "IJ72r22JE244",
        "outputId": "5ff1a236-ecf6-4944-aba3-fc4364942dbc"
      },
      "execution_count": null,
      "outputs": [
        {
          "output_type": "stream",
          "name": "stdout",
          "text": [
            "5\n",
            "A B C D E \n",
            "A B C D E \n",
            "A B C D E \n",
            "A B C D E \n",
            "A B C D E \n"
          ]
        }
      ]
    },
    {
      "cell_type": "code",
      "source": [
        "n=int(input())\n",
        "r=1\n",
        "while r<=n:\n",
        "  col=1\n",
        "  while col<=n:\n",
        "    print(chr(64+col+r-1),end=\" \")\n",
        "    col+=1\n",
        "  r+=1\n",
        "  print()"
      ],
      "metadata": {
        "colab": {
          "base_uri": "https://localhost:8080/"
        },
        "id": "uYFl6z7JHFI6",
        "outputId": "ffe5749d-caab-46c4-edfc-2b492f6f8ec1"
      },
      "execution_count": null,
      "outputs": [
        {
          "output_type": "stream",
          "name": "stdout",
          "text": [
            "4\n",
            "A B C D \n",
            "B C D E \n",
            "C D E F \n",
            "D E F G \n"
          ]
        }
      ]
    },
    {
      "cell_type": "code",
      "source": [
        "n=int(input())\n",
        "r=1\n",
        "while r<=n:\n",
        "  col=1\n",
        "  while col<=r:\n",
        "    print(chr(64+col),end=\" \")\n",
        "    col+=1\n",
        "  r+=1\n",
        "  print()"
      ],
      "metadata": {
        "colab": {
          "base_uri": "https://localhost:8080/"
        },
        "id": "3bQn4lJpHPoC",
        "outputId": "d31b1f15-6a98-4231-d6a8-d698cd3b6640"
      },
      "execution_count": null,
      "outputs": [
        {
          "output_type": "stream",
          "name": "stdout",
          "text": [
            "3\n",
            "A \n",
            "A B \n",
            "A B C \n"
          ]
        }
      ]
    },
    {
      "cell_type": "code",
      "source": [
        "n=int(input())\n",
        "r=1\n",
        "while r<=n:\n",
        "  col=1\n",
        "  while col<=r:\n",
        "    print(chr(64+r),end=\" \")\n",
        "    col+=1\n",
        "  r+=1\n",
        "  print()"
      ],
      "metadata": {
        "colab": {
          "base_uri": "https://localhost:8080/"
        },
        "id": "A3s1IPraHUkf",
        "outputId": "e5cf8f43-46b4-4cdc-b62f-ac5e9a1dfc5e"
      },
      "execution_count": null,
      "outputs": [
        {
          "output_type": "stream",
          "name": "stdout",
          "text": [
            "3\n",
            "A \n",
            "B B \n",
            "C C C \n"
          ]
        }
      ]
    },
    {
      "cell_type": "markdown",
      "source": [
        "inverted triangle"
      ],
      "metadata": {
        "id": "vDZXwV23H-_Z"
      }
    },
    {
      "cell_type": "code",
      "source": [
        "n=int(input())\n",
        "r=1\n",
        "while r<=n:\n",
        "  col=1\n",
        "  while col<=n-r+1:\n",
        "    print(\"*\",end=\" \")\n",
        "    col+=1\n",
        "  r+=1\n",
        "  print()"
      ],
      "metadata": {
        "id": "6Ha_EsGFH7-p",
        "colab": {
          "base_uri": "https://localhost:8080/"
        },
        "outputId": "118311d8-df39-41f9-b6c8-1ebd0c5299f8"
      },
      "execution_count": null,
      "outputs": [
        {
          "output_type": "stream",
          "name": "stdout",
          "text": [
            "4\n",
            "* * * * \n",
            "* * * \n",
            "* * \n",
            "* \n"
          ]
        }
      ]
    },
    {
      "cell_type": "code",
      "source": [
        "n=int(input())\n",
        "r=0\n",
        "while r<=n-1:\n",
        "  sp=1\n",
        "  while sp<=n-r:\n",
        "    print(\" \",end=\" \")\n",
        "    sp+=1\n",
        "  col=1\n",
        "  while col<=r:\n",
        "    print(\"*\", end=\" \")\n",
        "    col+=1\n",
        "  r+=1\n",
        "  print()"
      ],
      "metadata": {
        "colab": {
          "base_uri": "https://localhost:8080/"
        },
        "id": "5rmsYWF0gFKM",
        "outputId": "0972c913-7236-4b23-85a8-ddfafb597176"
      },
      "execution_count": null,
      "outputs": [
        {
          "output_type": "stream",
          "name": "stdout",
          "text": [
            "4\n",
            "        \n",
            "      * \n",
            "    * * \n",
            "  * * * \n"
          ]
        }
      ]
    },
    {
      "cell_type": "code",
      "source": [
        "n=int(input())\n",
        "r=0\n",
        "while r<=n-1:\n",
        "  sp=1\n",
        "  while sp<=n-r:\n",
        "    print(\" \",end=\" \")\n",
        "    sp+=1\n",
        "  num=1\n",
        "  while num<=r:\n",
        "    print(num, end=\" \")\n",
        "    num+=1\n",
        "  while num>=1:\n",
        "    print(num,end=\" \")\n",
        "    num-=1\n",
        "  r+=1\n",
        "  print()"
      ],
      "metadata": {
        "colab": {
          "base_uri": "https://localhost:8080/"
        },
        "id": "90V4Not0fz_c",
        "outputId": "e89aea6e-9788-4daf-e255-edf6f4567ec9"
      },
      "execution_count": null,
      "outputs": [
        {
          "output_type": "stream",
          "name": "stdout",
          "text": [
            "4\n",
            "        1 \n",
            "      1 2 1 \n",
            "    1 2 3 2 1 \n",
            "  1 2 3 4 3 2 1 \n"
          ]
        }
      ]
    },
    {
      "cell_type": "code",
      "source": [
        "n = int(input(\"Enter number of rows: \"))\n",
        "\n",
        "for i in range(1, n + 1):\n",
        "    if i == 1:\n",
        "        print(\"1\")\n",
        "    elif i == 2:\n",
        "        print(\"11\")\n",
        "    else:\n",
        "        print(str(i - 1) + \"0\" * (i - 2) + str(i - 1))"
      ],
      "metadata": {
        "colab": {
          "base_uri": "https://localhost:8080/"
        },
        "id": "LqaB205Hg4hs",
        "outputId": "6a5e7c29-5791-493e-99e6-6992dac9204d"
      },
      "execution_count": null,
      "outputs": [
        {
          "output_type": "stream",
          "name": "stdout",
          "text": [
            "Enter number of rows: 5\n",
            "1\n",
            "11\n",
            "202\n",
            "3003\n",
            "40004\n"
          ]
        }
      ]
    },
    {
      "cell_type": "code",
      "source": [],
      "metadata": {
        "id": "LNGwQW5Lg9lL"
      },
      "execution_count": null,
      "outputs": []
    },
    {
      "cell_type": "code",
      "source": [],
      "metadata": {
        "id": "UGqBB3LwhGfT"
      },
      "execution_count": null,
      "outputs": []
    },
    {
      "cell_type": "markdown",
      "source": [
        "# FUNCTIONS"
      ],
      "metadata": {
        "id": "9ZsWeEpK7VqL"
      }
    },
    {
      "cell_type": "code",
      "source": [
        "def fact(n):\n",
        "    if n == 0 or n == 1:  # Base case\n",
        "        return 1\n",
        "    else:\n",
        "        return n * fact(n - 1)\n",
        "\n",
        "x = fact(5)  # or any number you want to test\n",
        "print(x)"
      ],
      "metadata": {
        "colab": {
          "base_uri": "https://localhost:8080/"
        },
        "id": "KJf8GmmR7eZr",
        "outputId": "108a4ae1-c53a-4c21-9060-619e5d4080f8"
      },
      "execution_count": null,
      "outputs": [
        {
          "output_type": "stream",
          "name": "stdout",
          "text": [
            "120\n"
          ]
        }
      ]
    },
    {
      "cell_type": "code",
      "source": [
        "def fibonacci_loop(n):\n",
        "    a, b = 0, 1\n",
        "    for _ in range(n):\n",
        "        print(a, end=\" \")\n",
        "        a, b = b, a + b\n",
        "\n",
        "fibonacci_loop(10)"
      ],
      "metadata": {
        "colab": {
          "base_uri": "https://localhost:8080/"
        },
        "id": "nVFigzuY-_-a",
        "outputId": "eb03cdb6-aa6b-4114-be94-b4f51cf02b75"
      },
      "execution_count": null,
      "outputs": [
        {
          "output_type": "stream",
          "name": "stdout",
          "text": [
            "0 1 1 2 3 5 8 13 21 34 "
          ]
        }
      ]
    },
    {
      "cell_type": "code",
      "source": [
        "# Define operation functions\n",
        "def add(a, b):\n",
        "    return a + b\n",
        "\n",
        "def subtract(a, b):\n",
        "    return a - b\n",
        "\n",
        "def multiply(a, b):\n",
        "    return a * b\n",
        "\n",
        "def divide(a, b):\n",
        "    if b != 0:\n",
        "        return a / b\n",
        "    else:\n",
        "        return \"Error! Division by zero.\"\n",
        "\n",
        "# Main calculator function\n",
        "def calculator():\n",
        "    print(\"Select operation:\")\n",
        "    print(\"1. Add\")\n",
        "    print(\"2. Subtract\")\n",
        "    print(\"3. Multiply\")\n",
        "    print(\"4. Divide\")\n",
        "\n",
        "    choice = input(\"Enter choice (1/2/3/4): \")\n",
        "\n",
        "    if choice in ['1', '2', '3', '4']:\n",
        "        try:\n",
        "            num1 = float(input(\"Enter first number: \"))\n",
        "            num2 = float(input(\"Enter second number: \"))\n",
        "        except ValueError:\n",
        "            print(\"Invalid input. Please enter numbers.\")\n",
        "            return\n",
        "\n",
        "        if choice == '1':\n",
        "            print(\"Result:\", add(num1, num2))\n",
        "        elif choice == '2':\n",
        "            print(\"Result:\", subtract(num1, num2))\n",
        "        elif choice == '3':\n",
        "            print(\"Result:\", multiply(num1, num2))\n",
        "        elif choice == '4':\n",
        "            print(\"Result:\", divide(num1, num2))\n",
        "    else:\n",
        "        print(\"Invalid choice.\")\n",
        "\n",
        "# Call the calculator\n",
        "calculator()"
      ],
      "metadata": {
        "colab": {
          "base_uri": "https://localhost:8080/"
        },
        "id": "vAfcOP6i-GJs",
        "outputId": "de41ce89-5f8f-40e2-b835-90f4bd6dab16"
      },
      "execution_count": null,
      "outputs": [
        {
          "output_type": "stream",
          "name": "stdout",
          "text": [
            "Select operation:\n",
            "1. Add\n",
            "2. Subtract\n",
            "3. Multiply\n",
            "4. Divide\n",
            "Enter choice (1/2/3/4): 3\n",
            "Enter first number: 34\n",
            "Enter second number: 56\n",
            "Result: 1904.0\n"
          ]
        }
      ]
    },
    {
      "cell_type": "markdown",
      "source": [
        "array/ list dict tuple sets"
      ],
      "metadata": {
        "id": "PUOc1ckn-BzX"
      }
    },
    {
      "cell_type": "code",
      "source": [
        "#linear search\n",
        "l=[1,4,5,7,2,8,9]\n",
        "# for _ in l:\n",
        "#   if(_==7):\n",
        "#     print(l.index(_),end=\"\")  #inex funtion iterates again for index of _\n",
        "\n",
        "found=False\n",
        "for i in range(len(l)):\n",
        "  if l[i]==7:\n",
        "    print(i,end=\"\")\n",
        "    found=True\n",
        "    break\n",
        "if not found:\n",
        "  print(-1)"
      ],
      "metadata": {
        "colab": {
          "base_uri": "https://localhost:8080/"
        },
        "id": "aqD-hlHsIE5X",
        "outputId": "c8430514-c794-4be4-f0f7-ed13c37763b8"
      },
      "execution_count": null,
      "outputs": [
        {
          "output_type": "stream",
          "name": "stdout",
          "text": [
            "3"
          ]
        }
      ]
    },
    {
      "cell_type": "code",
      "source": [
        "#Remove duplicates from a list.\n",
        "l=[1,4,5,7,2,8,9,3,2,7,5]\n",
        "for _ in l:\n",
        "  for i in range(l.count(_)-1):   #count the no. of occurences and remove all-1\n",
        "    l.remove(_)\n",
        "print(l)"
      ],
      "metadata": {
        "colab": {
          "base_uri": "https://localhost:8080/"
        },
        "id": "XD_TtzP2-L6T",
        "outputId": "4f1c35da-47c5-4821-a7f3-efa9a3748ad9"
      },
      "execution_count": null,
      "outputs": [
        {
          "output_type": "stream",
          "name": "stdout",
          "text": [
            "[1, 4, 8, 9, 3, 2, 7, 5]\n"
          ]
        }
      ]
    },
    {
      "cell_type": "code",
      "source": [
        "\n",
        "l = [1, 4, 5, 7, 2, 8, 9, 3, 2, 7, 5]\n",
        "\n",
        "for i in range(len(l)):\n",
        "    for j in range(0, len(l) - i - 1):\n",
        "        if l[j] > l[j + 1]:\n",
        "            l[j], l[j + 1] = l[j + 1], l[j]  # Swap bubble sort\n",
        "\n",
        "print(l)"
      ],
      "metadata": {
        "colab": {
          "base_uri": "https://localhost:8080/"
        },
        "id": "JI-kuX72Mg7B",
        "outputId": "ebc23f45-cf1b-42f7-e013-6846458bdd55"
      },
      "execution_count": null,
      "outputs": [
        {
          "output_type": "stream",
          "name": "stdout",
          "text": [
            "[1, 2, 2, 3, 4, 5, 5, 7, 7, 8, 9]\n"
          ]
        }
      ]
    }
  ]
}